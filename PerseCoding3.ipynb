{
  "nbformat": 4,
  "nbformat_minor": 0,
  "metadata": {
    "colab": {
      "provenance": [],
      "authorship_tag": "ABX9TyP3B7TvkwgBrrig3V9rQAm0",
      "include_colab_link": true
    },
    "kernelspec": {
      "name": "python3",
      "display_name": "Python 3"
    },
    "language_info": {
      "name": "python"
    }
  },
  "cells": [
    {
      "cell_type": "markdown",
      "metadata": {
        "id": "view-in-github",
        "colab_type": "text"
      },
      "source": [
        "<a href=\"https://colab.research.google.com/github/oqudi7qwiug/PerseCoding3/blob/main/PerseCoding3.ipynb\" target=\"_parent\"><img src=\"https://colab.research.google.com/assets/colab-badge.svg\" alt=\"Open In Colab\"/></a>"
      ]
    },
    {
      "cell_type": "markdown",
      "source": [
        "Q3) Your program will be given a positive number n as input (integer or decimal). Print the\n",
        "first power of 2 that is larger than that number. For example, if num is 6 then you should\n",
        "print 8 because 2 cubed is 8 whereas 2 squared is only 4 and so not big enough."
      ],
      "metadata": {
        "id": "XNFRsy-nHCUs"
      }
    },
    {
      "cell_type": "code",
      "source": [
        "import math\n",
        "\n",
        "def round_up_to_whole_number(value):\n",
        "    return math.ceil(value)                 #For future advanced reference????\n",
        "\n",
        "n = 4\n",
        "\n",
        "\n",
        "e = n//2\n",
        "\n",
        "x=int(e)\n",
        "\n",
        "print(int(e+1)*2)\n",
        "\n",
        "\n",
        "\n",
        "\n",
        "\n",
        "\n",
        " "
      ],
      "metadata": {
        "id": "Qm35nHjcHGS5",
        "colab": {
          "base_uri": "https://localhost:8080/"
        },
        "outputId": "baaad834-d1fa-483d-dd0f-1f851840fb8c"
      },
      "execution_count": null,
      "outputs": [
        {
          "output_type": "stream",
          "name": "stdout",
          "text": [
            "6\n"
          ]
        }
      ]
    },
    {
      "cell_type": "code",
      "source": [],
      "metadata": {
        "id": "YFaafCLNIRbZ"
      },
      "execution_count": null,
      "outputs": []
    }
  ]
}